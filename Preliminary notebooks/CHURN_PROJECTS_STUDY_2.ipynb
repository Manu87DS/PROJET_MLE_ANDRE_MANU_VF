{
 "cells": [
  {
   "cell_type": "code",
   "execution_count": 1,
   "metadata": {
    "id": "-zd1nKNRchNs"
   },
   "outputs": [],
   "source": [
    "import os\n",
    "import pandas as pd\n",
    "import numpy as np\n",
    "import seaborn as sns\n",
    "import matplotlib.pyplot as plt\n",
    "from time import time\n",
    "import scipy.stats as stats\n",
    "sns.set_theme()\n",
    "%matplotlib inline\n",
    "from sklearn.model_selection import train_test_split\n",
    "from sklearn.linear_model import SGDClassifier\n",
    "from sklearn.tree import DecisionTreeClassifier\n",
    "from sklearn.linear_model import LogisticRegression\n",
    "from sklearn.naive_bayes import GaussianNB\n",
    "from sklearn.neighbors import KNeighborsClassifier\n",
    "from sklearn.ensemble import GradientBoostingClassifier\n",
    "from sklearn.utils.fixes import loguniform\n",
    "from sklearn.metrics import accuracy_score,f1_score, confusion_matrix, classification_report\n",
    "from sklearn.model_selection import GridSearchCV, RandomizedSearchCV\n",
    "import pickle\n",
    "from joblib import dump, load\n",
    "import warnings\n",
    "warnings.filterwarnings(\"ignore\")"
   ]
  },
  {
   "cell_type": "code",
   "execution_count": 2,
   "metadata": {
    "colab": {
     "base_uri": "https://localhost:8080/",
     "height": 366
    },
    "id": "RQkq1UziKW6W",
    "outputId": "2b182d91-79d9-4113-c2a1-b35823d4c999"
   },
   "outputs": [
    {
     "data": {
      "text/html": [
       "<div>\n",
       "<style scoped>\n",
       "    .dataframe tbody tr th:only-of-type {\n",
       "        vertical-align: middle;\n",
       "    }\n",
       "\n",
       "    .dataframe tbody tr th {\n",
       "        vertical-align: top;\n",
       "    }\n",
       "\n",
       "    .dataframe thead th {\n",
       "        text-align: right;\n",
       "    }\n",
       "</style>\n",
       "<table border=\"1\" class=\"dataframe\">\n",
       "  <thead>\n",
       "    <tr style=\"text-align: right;\">\n",
       "      <th></th>\n",
       "      <th>customerID</th>\n",
       "      <th>gender</th>\n",
       "      <th>SeniorCitizen</th>\n",
       "      <th>Partner</th>\n",
       "      <th>Dependents</th>\n",
       "      <th>tenure</th>\n",
       "      <th>PhoneService</th>\n",
       "      <th>MultipleLines</th>\n",
       "      <th>InternetService</th>\n",
       "      <th>OnlineSecurity</th>\n",
       "      <th>OnlineBackup</th>\n",
       "      <th>DeviceProtection</th>\n",
       "      <th>TechSupport</th>\n",
       "      <th>StreamingTV</th>\n",
       "      <th>StreamingMovies</th>\n",
       "      <th>Contract</th>\n",
       "      <th>PaperlessBilling</th>\n",
       "      <th>PaymentMethod</th>\n",
       "      <th>MonthlyCharges</th>\n",
       "      <th>TotalCharges</th>\n",
       "      <th>Churn</th>\n",
       "    </tr>\n",
       "  </thead>\n",
       "  <tbody>\n",
       "    <tr>\n",
       "      <th>0</th>\n",
       "      <td>7010-BRBUU</td>\n",
       "      <td>Male</td>\n",
       "      <td>0</td>\n",
       "      <td>Yes</td>\n",
       "      <td>Yes</td>\n",
       "      <td>72</td>\n",
       "      <td>Yes</td>\n",
       "      <td>Yes</td>\n",
       "      <td>No</td>\n",
       "      <td>No internet service</td>\n",
       "      <td>No internet service</td>\n",
       "      <td>No internet service</td>\n",
       "      <td>No internet service</td>\n",
       "      <td>No internet service</td>\n",
       "      <td>No internet service</td>\n",
       "      <td>Two year</td>\n",
       "      <td>No</td>\n",
       "      <td>Credit card (automatic)</td>\n",
       "      <td>24.10</td>\n",
       "      <td>1734.65</td>\n",
       "      <td>No</td>\n",
       "    </tr>\n",
       "    <tr>\n",
       "      <th>1</th>\n",
       "      <td>9688-YGXVR</td>\n",
       "      <td>Female</td>\n",
       "      <td>0</td>\n",
       "      <td>No</td>\n",
       "      <td>No</td>\n",
       "      <td>44</td>\n",
       "      <td>Yes</td>\n",
       "      <td>No</td>\n",
       "      <td>Fiber optic</td>\n",
       "      <td>No</td>\n",
       "      <td>Yes</td>\n",
       "      <td>Yes</td>\n",
       "      <td>No</td>\n",
       "      <td>Yes</td>\n",
       "      <td>No</td>\n",
       "      <td>Month-to-month</td>\n",
       "      <td>Yes</td>\n",
       "      <td>Credit card (automatic)</td>\n",
       "      <td>88.15</td>\n",
       "      <td>3973.2</td>\n",
       "      <td>No</td>\n",
       "    </tr>\n",
       "    <tr>\n",
       "      <th>2</th>\n",
       "      <td>9286-DOJGF</td>\n",
       "      <td>Female</td>\n",
       "      <td>1</td>\n",
       "      <td>Yes</td>\n",
       "      <td>No</td>\n",
       "      <td>38</td>\n",
       "      <td>Yes</td>\n",
       "      <td>Yes</td>\n",
       "      <td>Fiber optic</td>\n",
       "      <td>No</td>\n",
       "      <td>No</td>\n",
       "      <td>No</td>\n",
       "      <td>No</td>\n",
       "      <td>No</td>\n",
       "      <td>No</td>\n",
       "      <td>Month-to-month</td>\n",
       "      <td>Yes</td>\n",
       "      <td>Bank transfer (automatic)</td>\n",
       "      <td>74.95</td>\n",
       "      <td>2869.85</td>\n",
       "      <td>Yes</td>\n",
       "    </tr>\n",
       "    <tr>\n",
       "      <th>3</th>\n",
       "      <td>6994-KERXL</td>\n",
       "      <td>Male</td>\n",
       "      <td>0</td>\n",
       "      <td>No</td>\n",
       "      <td>No</td>\n",
       "      <td>4</td>\n",
       "      <td>Yes</td>\n",
       "      <td>No</td>\n",
       "      <td>DSL</td>\n",
       "      <td>No</td>\n",
       "      <td>No</td>\n",
       "      <td>No</td>\n",
       "      <td>No</td>\n",
       "      <td>No</td>\n",
       "      <td>Yes</td>\n",
       "      <td>Month-to-month</td>\n",
       "      <td>Yes</td>\n",
       "      <td>Electronic check</td>\n",
       "      <td>55.90</td>\n",
       "      <td>238.5</td>\n",
       "      <td>No</td>\n",
       "    </tr>\n",
       "    <tr>\n",
       "      <th>4</th>\n",
       "      <td>2181-UAESM</td>\n",
       "      <td>Male</td>\n",
       "      <td>0</td>\n",
       "      <td>No</td>\n",
       "      <td>No</td>\n",
       "      <td>2</td>\n",
       "      <td>Yes</td>\n",
       "      <td>No</td>\n",
       "      <td>DSL</td>\n",
       "      <td>Yes</td>\n",
       "      <td>No</td>\n",
       "      <td>Yes</td>\n",
       "      <td>No</td>\n",
       "      <td>No</td>\n",
       "      <td>No</td>\n",
       "      <td>Month-to-month</td>\n",
       "      <td>No</td>\n",
       "      <td>Electronic check</td>\n",
       "      <td>53.45</td>\n",
       "      <td>119.5</td>\n",
       "      <td>No</td>\n",
       "    </tr>\n",
       "  </tbody>\n",
       "</table>\n",
       "</div>"
      ],
      "text/plain": [
       "   customerID  gender  SeniorCitizen  ... MonthlyCharges TotalCharges  Churn\n",
       "0  7010-BRBUU    Male              0  ...          24.10      1734.65     No\n",
       "1  9688-YGXVR  Female              0  ...          88.15       3973.2     No\n",
       "2  9286-DOJGF  Female              1  ...          74.95      2869.85    Yes\n",
       "3  6994-KERXL    Male              0  ...          55.90        238.5     No\n",
       "4  2181-UAESM    Male              0  ...          53.45        119.5     No\n",
       "\n",
       "[5 rows x 21 columns]"
      ]
     },
     "execution_count": 2,
     "metadata": {},
     "output_type": "execute_result"
    }
   ],
   "source": [
    "churn=pd.read_csv('churn.csv')\n",
    "churn.head()"
   ]
  },
  {
   "cell_type": "code",
   "execution_count": 3,
   "metadata": {
    "colab": {
     "base_uri": "https://localhost:8080/",
     "height": 265
    },
    "id": "vzTtA0RrdJRb",
    "outputId": "b568cd0e-a3ad-4e68-d3c7-e3eae8225583"
   },
   "outputs": [
    {
     "data": {
      "text/plain": [
       "<AxesSubplot:ylabel='Churn'>"
      ]
     },
     "execution_count": 3,
     "metadata": {},
     "output_type": "execute_result"
    },
    {
     "data": {
      "image/png": "[encoded data removed]",
      "text/plain": [
       "<Figure size 432x288 with 1 Axes>"
      ]
     },
     "metadata": {},
     "output_type": "display_data"
    }
   ],
   "source": [
    "churn.Churn.value_counts().plot.pie()"
   ]
  },
  {
   "cell_type": "code",
   "execution_count": 4,
   "metadata": {
    "colab": {
     "base_uri": "https://localhost:8080/",
     "height": 300
    },
    "id": "NjWRqU5-OZQb",
    "outputId": "759fb18e-6b5d-44b0-a6b7-9ddd8c7609eb"
   },
   "outputs": [
    {
     "data": {
      "text/html": [
       "<div>\n",
       "<style scoped>\n",
       "    .dataframe tbody tr th:only-of-type {\n",
       "        vertical-align: middle;\n",
       "    }\n",
       "\n",
       "    .dataframe tbody tr th {\n",
       "        vertical-align: top;\n",
       "    }\n",
       "\n",
       "    .dataframe thead th {\n",
       "        text-align: right;\n",
       "    }\n",
       "</style>\n",
       "<table border=\"1\" class=\"dataframe\">\n",
       "  <thead>\n",
       "    <tr style=\"text-align: right;\">\n",
       "      <th></th>\n",
       "      <th>SeniorCitizen</th>\n",
       "      <th>tenure</th>\n",
       "      <th>MonthlyCharges</th>\n",
       "    </tr>\n",
       "  </thead>\n",
       "  <tbody>\n",
       "    <tr>\n",
       "      <th>count</th>\n",
       "      <td>5986.000000</td>\n",
       "      <td>5986.000000</td>\n",
       "      <td>5986.000000</td>\n",
       "    </tr>\n",
       "    <tr>\n",
       "      <th>mean</th>\n",
       "      <td>0.161377</td>\n",
       "      <td>32.468760</td>\n",
       "      <td>64.802213</td>\n",
       "    </tr>\n",
       "    <tr>\n",
       "      <th>std</th>\n",
       "      <td>0.367909</td>\n",
       "      <td>24.516391</td>\n",
       "      <td>30.114702</td>\n",
       "    </tr>\n",
       "    <tr>\n",
       "      <th>min</th>\n",
       "      <td>0.000000</td>\n",
       "      <td>0.000000</td>\n",
       "      <td>18.250000</td>\n",
       "    </tr>\n",
       "    <tr>\n",
       "      <th>25%</th>\n",
       "      <td>0.000000</td>\n",
       "      <td>9.000000</td>\n",
       "      <td>35.650000</td>\n",
       "    </tr>\n",
       "    <tr>\n",
       "      <th>50%</th>\n",
       "      <td>0.000000</td>\n",
       "      <td>29.000000</td>\n",
       "      <td>70.400000</td>\n",
       "    </tr>\n",
       "    <tr>\n",
       "      <th>75%</th>\n",
       "      <td>0.000000</td>\n",
       "      <td>56.000000</td>\n",
       "      <td>89.900000</td>\n",
       "    </tr>\n",
       "    <tr>\n",
       "      <th>max</th>\n",
       "      <td>1.000000</td>\n",
       "      <td>72.000000</td>\n",
       "      <td>118.750000</td>\n",
       "    </tr>\n",
       "  </tbody>\n",
       "</table>\n",
       "</div>"
      ],
      "text/plain": [
       "       SeniorCitizen       tenure  MonthlyCharges\n",
       "count    5986.000000  5986.000000     5986.000000\n",
       "mean        0.161377    32.468760       64.802213\n",
       "std         0.367909    24.516391       30.114702\n",
       "min         0.000000     0.000000       18.250000\n",
       "25%         0.000000     9.000000       35.650000\n",
       "50%         0.000000    29.000000       70.400000\n",
       "75%         0.000000    56.000000       89.900000\n",
       "max         1.000000    72.000000      118.750000"
      ]
     },
     "execution_count": 4,
     "metadata": {},
     "output_type": "execute_result"
    }
   ],
   "source": [
    "churn.describe()"
   ]
  },
  {
   "cell_type": "code",
   "execution_count": 5,
   "metadata": {
    "colab": {
     "base_uri": "https://localhost:8080/"
    },
    "id": "XjNmTo6OdkmU",
    "outputId": "81996b4a-3fc0-44ec-9df5-326eac22b6b9"
   },
   "outputs": [
    {
     "data": {
      "text/plain": [
       "0.0"
      ]
     },
     "execution_count": 5,
     "metadata": {},
     "output_type": "execute_result"
    }
   ],
   "source": [
    "churn.isna().any(axis=1).sum() / len(churn)"
   ]
  },
  {
   "cell_type": "code",
   "execution_count": 6,
   "metadata": {
    "colab": {
     "base_uri": "https://localhost:8080/"
    },
    "id": "kwDWcXLLXTox",
    "outputId": "15c5c8cc-563e-4e94-c30e-ab01a8713a6e"
   },
   "outputs": [
    {
     "data": {
      "text/plain": [
       "Index(['customerID', 'gender', 'SeniorCitizen', 'Partner', 'Dependents',\n",
       "       'tenure', 'PhoneService', 'MultipleLines', 'InternetService',\n",
       "       'OnlineSecurity', 'OnlineBackup', 'DeviceProtection', 'TechSupport',\n",
       "       'StreamingTV', 'StreamingMovies', 'Contract', 'PaperlessBilling',\n",
       "       'PaymentMethod', 'MonthlyCharges', 'TotalCharges', 'Churn'],\n",
       "      dtype='object')"
      ]
     },
     "execution_count": 6,
     "metadata": {},
     "output_type": "execute_result"
    }
   ],
   "source": [
    "churn.columns"
   ]
  },
  {
   "cell_type": "code",
   "execution_count": 7,
   "metadata": {
    "colab": {
     "base_uri": "https://localhost:8080/"
    },
    "id": "a7cqqyysXy7L",
    "outputId": "d9b0bfe4-1302-4e70-b3b8-88ca07a9d160"
   },
   "outputs": [
    {
     "name": "stdout",
     "output_type": "stream",
     "text": [
      "<class 'pandas.core.frame.DataFrame'>\n",
      "RangeIndex: 5986 entries, 0 to 5985\n",
      "Data columns (total 21 columns):\n",
      " #   Column            Non-Null Count  Dtype  \n",
      "---  ------            --------------  -----  \n",
      " 0   customerID        5986 non-null   object \n",
      " 1   gender            5986 non-null   object \n",
      " 2   SeniorCitizen     5986 non-null   int64  \n",
      " 3   Partner           5986 non-null   object \n",
      " 4   Dependents        5986 non-null   object \n",
      " 5   tenure            5986 non-null   int64  \n",
      " 6   PhoneService      5986 non-null   object \n",
      " 7   MultipleLines     5986 non-null   object \n",
      " 8   InternetService   5986 non-null   object \n",
      " 9   OnlineSecurity    5986 non-null   object \n",
      " 10  OnlineBackup      5986 non-null   object \n",
      " 11  DeviceProtection  5986 non-null   object \n",
      " 12  TechSupport       5986 non-null   object \n",
      " 13  StreamingTV       5986 non-null   object \n",
      " 14  StreamingMovies   5986 non-null   object \n",
      " 15  Contract          5986 non-null   object \n",
      " 16  PaperlessBilling  5986 non-null   object \n",
      " 17  PaymentMethod     5986 non-null   object \n",
      " 18  MonthlyCharges    5986 non-null   float64\n",
      " 19  TotalCharges      5986 non-null   object \n",
      " 20  Churn             5986 non-null   object \n",
      "dtypes: float64(1), int64(2), object(18)\n",
      "memory usage: 982.2+ KB\n"
     ]
    }
   ],
   "source": [
    "churn.info()"
   ]
  },
  {
   "cell_type": "code",
   "execution_count": 8,
   "metadata": {
    "id": "Ou_TBIJ1Wn5f"
   },
   "outputs": [],
   "source": [
    "from sklearn.model_selection import train_test_split\n",
    "\n",
    "import pandas as pd\n",
    "import numpy as np"
   ]
  },
  {
   "cell_type": "code",
   "execution_count": 9,
   "metadata": {
    "id": "hnoc_CkGW_zN"
   },
   "outputs": [],
   "source": [
    "def prepa_data(churn):\n",
    "\tmyChurn=churn\n",
    "\tmyChurn['TotalCharges'] = pd.to_numeric(myChurn.TotalCharges, errors='coerce')\n",
    "\tmyChurn.dropna(subset = [\"TotalCharges\"], inplace=True)\n",
    "\tmyChurn = pd.get_dummies(myChurn,columns=['gender','SeniorCitizen','Partner','Dependents','InternetService',\n",
    "       'DeviceProtection', \n",
    "       'StreamingTV',\n",
    "       'Contract','PhoneService',\n",
    "        'MultipleLines','OnlineSecurity','OnlineBackup','TechSupport','StreamingMovies',\n",
    "       'PaymentMethod','PaperlessBilling'],drop_first=True)\n",
    "\tmyData=myChurn.drop(columns=['customerID'])\n",
    "\tX = myData.drop(columns = ['Churn'])\n",
    "\ty = myData['Churn'].values\n",
    "\treturn X,y"
   ]
  },
  {
   "cell_type": "code",
   "execution_count": 10,
   "metadata": {
    "id": "YA7BV_CGXNoe"
   },
   "outputs": [],
   "source": [
    "X,y = prepa_data(churn)"
   ]
  },
  {
   "cell_type": "code",
   "execution_count": 11,
   "metadata": {
    "id": "FGqQNfdTU1u0"
   },
   "outputs": [],
   "source": [
    "X_train, X_test, y_train, y_test = train_test_split(X, y, test_size=0.33, random_state=42, stratify =y)"
   ]
  },
  {
   "cell_type": "code",
   "execution_count": 12,
   "metadata": {
    "id": "aw_CfuilCTjB"
   },
   "outputs": [],
   "source": [
    "# Utility function to report best scores\n",
    "def report(results, n_top=3):\n",
    "    for i in range(1, n_top + 1):\n",
    "        candidates = np.flatnonzero(results[\"rank_test_score\"] == i)\n",
    "        for candidate in candidates:\n",
    "            print(\"Model with rank: {0}\".format(i))\n",
    "            print(\n",
    "                \"Mean validation score: {0:.3f} (std: {1:.3f})\".format(\n",
    "                    results[\"mean_test_score\"][candidate],\n",
    "                    results[\"std_test_score\"][candidate],\n",
    "                )\n",
    "            )\n",
    "            print(\"Parameters: {0}\".format(results[\"params\"][candidate]))\n",
    "            print(\"\")"
   ]
  },
  {
   "cell_type": "code",
   "execution_count": 13,
   "metadata": {
    "colab": {
     "base_uri": "https://localhost:8080/"
    },
    "id": "sNlyKC0SAYuQ",
    "outputId": "9a43812f-f98d-4d46-d440-e8dce0873cd8"
   },
   "outputs": [
    {
     "name": "stdout",
     "output_type": "stream",
     "text": [
      "RandomizedSearchCV took 4.60 seconds for 15 candidates parameter settings.\n",
      "Model with rank: 1\n",
      "Mean validation score: 0.775 (std: 0.008)\n",
      "Parameters: {'alpha': 0.01678211068197558, 'average': False, 'l1_ratio': 0.6487524368895472}\n",
      "\n",
      "Model with rank: 2\n",
      "Mean validation score: 0.764 (std: 0.010)\n",
      "Parameters: {'alpha': 0.9600069987533852, 'average': False, 'l1_ratio': 0.82044063022099}\n",
      "\n",
      "Model with rank: 3\n",
      "Mean validation score: 0.758 (std: 0.006)\n",
      "Parameters: {'alpha': 0.043785738584927104, 'average': True, 'l1_ratio': 0.9610342638678266}\n",
      "\n"
     ]
    }
   ],
   "source": [
    "\n",
    "clf = SGDClassifier(loss=\"hinge\", penalty=\"elasticnet\", fit_intercept=True)\n",
    "\n",
    "param_dist = {\n",
    "    \"average\": [True, False],\n",
    "    \"l1_ratio\": stats.uniform(0, 1),\n",
    "    \"alpha\": loguniform(1e-2, 1e0),\n",
    "}\n",
    "\n",
    "# run randomized search\n",
    "n_iter_search = 15\n",
    "random_search = RandomizedSearchCV(\n",
    "    clf, param_distributions=param_dist, n_iter=n_iter_search\n",
    ")\n",
    "\n",
    "start = time()\n",
    "random_search.fit(X_train, y_train)\n",
    "print(\n",
    "    \"RandomizedSearchCV took %.2f seconds for %d candidates parameter settings.\"\n",
    "    % ((time() - start), n_iter_search)\n",
    ")\n",
    "report(random_search.cv_results_)"
   ]
  },
  {
   "cell_type": "code",
   "execution_count": 14,
   "metadata": {
    "colab": {
     "base_uri": "https://localhost:8080/"
    },
    "id": "upDVhfj5Bd0o",
    "outputId": "142fd1b8-4d65-43bf-d88d-8ed9d8a0e950"
   },
   "outputs": [
    {
     "name": "stdout",
     "output_type": "stream",
     "text": [
      "GridSearchCV took 14.76 seconds for 60 candidate parameter settings.\n",
      "Model with rank: 1\n",
      "Mean validation score: 0.788 (std: 0.008)\n",
      "Parameters: {'alpha': 0.01, 'average': False, 'l1_ratio': 1.0}\n",
      "\n",
      "Model with rank: 2\n",
      "Mean validation score: 0.782 (std: 0.007)\n",
      "Parameters: {'alpha': 0.01, 'average': False, 'l1_ratio': 0.1111111111111111}\n",
      "\n",
      "Model with rank: 3\n",
      "Mean validation score: 0.780 (std: 0.010)\n",
      "Parameters: {'alpha': 0.01, 'average': False, 'l1_ratio': 0.4444444444444444}\n",
      "\n"
     ]
    }
   ],
   "source": [
    "# use a full grid over all parameters\n",
    "param_grid = {\n",
    "    \"average\": [True, False],\n",
    "    \"l1_ratio\": np.linspace(0, 1, num=10),\n",
    "    \"alpha\": np.power(10, np.arange(-2, 1, dtype=float)),\n",
    "}\n",
    "\n",
    "# run grid search\n",
    "grid_search = GridSearchCV(clf, param_grid=param_grid)\n",
    "start = time()\n",
    "grid_search.fit(X_train, y_train)\n",
    "\n",
    "print(\n",
    "    \"GridSearchCV took %.2f seconds for %d candidate parameter settings.\"\n",
    "    % (time() - start, len(grid_search.cv_results_[\"params\"]))\n",
    ")\n",
    "report(grid_search.cv_results_)"
   ]
  },
  {
   "cell_type": "code",
   "execution_count": 15,
   "metadata": {
    "colab": {
     "base_uri": "https://localhost:8080/"
    },
    "id": "XLG0C9uhT4_-",
    "outputId": "e5ebe570-d59a-4923-9efd-00bb55fa503f"
   },
   "outputs": [
    {
     "name": "stdout",
     "output_type": "stream",
     "text": [
      "[[1377   72]\n",
      " [ 367  157]]\n",
      "              precision    recall  f1-score   support\n",
      "\n",
      "          No       0.79      0.95      0.86      1449\n",
      "         Yes       0.69      0.30      0.42       524\n",
      "\n",
      "    accuracy                           0.78      1973\n",
      "   macro avg       0.74      0.62      0.64      1973\n",
      "weighted avg       0.76      0.78      0.74      1973\n",
      "\n"
     ]
    }
   ],
   "source": [
    "# modèle 1 _ SGD Classifier optimized\n",
    "clf1_optimized = clf = SGDClassifier(loss=\"hinge\", penalty=\"elasticnet\", fit_intercept=True, alpha = 0.3292945376179236, average = False, l1_ratio = 0.8537735034401092)\n",
    "clf1_optimized.fit(X_train, y_train)\n",
    "y_pred = clf1_optimized.predict(X_test)\n",
    "#pd.crosstab(y_test, y_pred)\n",
    "b= confusion_matrix(y_test, y_pred, labels=None, sample_weight=None, normalize=None)\n",
    "print(b)\n",
    "c= classification_report(y_test, y_pred)\n",
    "print(c)"
   ]
  },
  {
   "cell_type": "code",
   "execution_count": 16,
   "metadata": {
    "id": "ELhja6BojQBm"
   },
   "outputs": [],
   "source": [
    "pickle.dump(clf1_optimized, open('SGD_model_2.pkl','wb'))"
   ]
  },
  {
   "cell_type": "code",
   "execution_count": 17,
   "metadata": {
    "colab": {
     "base_uri": "https://localhost:8080/"
    },
    "id": "8AlCcQmcSWUD",
    "outputId": "7d3f2cb0-e6af-42ec-cb6d-744895255412"
   },
   "outputs": [
    {
     "name": "stdout",
     "output_type": "stream",
     "text": [
      "RandomizedSearchCV took 1.50 seconds for 15 candidates parameter settings.\n",
      "Model with rank: 1\n",
      "Mean validation score: 0.778 (std: 0.012)\n",
      "Parameters: {'splitter': 'random', 'max_depth': 8, 'criterion': 'gini'}\n",
      "\n",
      "Model with rank: 2\n",
      "Mean validation score: 0.773 (std: 0.017)\n",
      "Parameters: {'splitter': 'random', 'max_depth': 8, 'criterion': 'entropy'}\n",
      "\n",
      "Model with rank: 3\n",
      "Mean validation score: 0.737 (std: 0.012)\n",
      "Parameters: {'splitter': 'best', 'max_depth': 12, 'criterion': 'entropy'}\n",
      "\n"
     ]
    }
   ],
   "source": [
    "clf2 = DecisionTreeClassifier()\n",
    "\n",
    "\n",
    "param_dist2 = {'criterion':['gini','entropy'],'max_depth':[4,5,6,7,8,9,10,11,12,15,20,30,40,50,70,90,120,150],\n",
    "               'splitter': ['best', 'random']}\n",
    "\n",
    "# run randomized search\n",
    "n_iter_search = 15\n",
    "random_search2 = RandomizedSearchCV(\n",
    "    clf2, param_distributions=param_dist2, n_iter=n_iter_search\n",
    ")\n",
    "\n",
    "start = time()\n",
    "random_search2.fit(X_train, y_train)\n",
    "print(\n",
    "    \"RandomizedSearchCV took %.2f seconds for %d candidates parameter settings.\"\n",
    "    % ((time() - start), n_iter_search)\n",
    ")\n",
    "report(random_search2.cv_results_)"
   ]
  },
  {
   "cell_type": "code",
   "execution_count": 18,
   "metadata": {
    "colab": {
     "base_uri": "https://localhost:8080/"
    },
    "id": "_vJlcjtmYKxW",
    "outputId": "175080b8-17ad-423f-a148-eb2225291246"
   },
   "outputs": [
    {
     "name": "stdout",
     "output_type": "stream",
     "text": [
      "GridSearchCV took 6.03 seconds for 72 candidate parameter settings.\n",
      "Model with rank: 1\n",
      "Mean validation score: 0.786 (std: 0.006)\n",
      "Parameters: {'criterion': 'gini', 'max_depth': 5, 'splitter': 'random'}\n",
      "\n",
      "Model with rank: 2\n",
      "Mean validation score: 0.783 (std: 0.014)\n",
      "Parameters: {'criterion': 'entropy', 'max_depth': 6, 'splitter': 'best'}\n",
      "\n",
      "Model with rank: 3\n",
      "Mean validation score: 0.783 (std: 0.007)\n",
      "Parameters: {'criterion': 'entropy', 'max_depth': 4, 'splitter': 'best'}\n",
      "\n"
     ]
    }
   ],
   "source": [
    "# use a full grid over all parameters\n",
    "\n",
    "param_grid2 = {'criterion':['gini','entropy'],'max_depth':[4,5,6,7,8,9,10,11,12,15,20,30,40,50,70,90,120,150],\n",
    "               'splitter': ['best', 'random']}\n",
    "\n",
    "# run grid search\n",
    "grid_search2 = GridSearchCV(clf2, param_grid=param_grid2)\n",
    "start = time()\n",
    "grid_search2.fit(X_train, y_train)\n",
    "\n",
    "print(\n",
    "    \"GridSearchCV took %.2f seconds for %d candidate parameter settings.\"\n",
    "    % (time() - start, len(grid_search2.cv_results_[\"params\"]))\n",
    ")\n",
    "report(grid_search2.cv_results_)"
   ]
  },
  {
   "cell_type": "code",
   "execution_count": 19,
   "metadata": {
    "colab": {
     "base_uri": "https://localhost:8080/"
    },
    "id": "GGuSuypJaZL_",
    "outputId": "441affb1-784a-456e-d23c-ea6a74f1f8de"
   },
   "outputs": [
    {
     "name": "stdout",
     "output_type": "stream",
     "text": [
      "[[1272  177]\n",
      " [ 266  258]]\n",
      "              precision    recall  f1-score   support\n",
      "\n",
      "          No       0.83      0.88      0.85      1449\n",
      "         Yes       0.59      0.49      0.54       524\n",
      "\n",
      "    accuracy                           0.78      1973\n",
      "   macro avg       0.71      0.69      0.69      1973\n",
      "weighted avg       0.76      0.78      0.77      1973\n",
      "\n"
     ]
    }
   ],
   "source": [
    "# modèle 2 _ DTC Classifier optimized\n",
    "clf2_optimized = DecisionTreeClassifier(splitter= 'random', max_depth = 8, criterion = 'entropy')\n",
    "clf2_optimized.fit(X_train, y_train)\n",
    "y_pred2 = clf2_optimized.predict(X_test)\n",
    "#pd.crosstab(y_test, y_pred)\n",
    "b2= confusion_matrix(y_test, y_pred2, labels=None, sample_weight=None, normalize=None)\n",
    "print(b2)\n",
    "c2= classification_report(y_test, y_pred2)\n",
    "print(c2)"
   ]
  },
  {
   "cell_type": "code",
   "execution_count": 20,
   "metadata": {
    "id": "T2BtTIbTkPu1"
   },
   "outputs": [],
   "source": [
    "pickle.dump(clf2_optimized, open('DTC_model_2.pkl','wb'))"
   ]
  },
  {
   "cell_type": "code",
   "execution_count": 21,
   "metadata": {
    "colab": {
     "base_uri": "https://localhost:8080/"
    },
    "id": "sgzXirrGcn1e",
    "outputId": "6a938c2c-ae0c-4e70-e6be-2bf7122f36fa"
   },
   "outputs": [
    {
     "name": "stdout",
     "output_type": "stream",
     "text": [
      "RandomizedSearchCV took 3.58 seconds for 15 candidates parameter settings.\n",
      "Model with rank: 1\n",
      "Mean validation score: 0.801 (std: 0.014)\n",
      "Parameters: {'solver': 'newton-cg', 'penalty': 'none', 'C': 0.01}\n",
      "\n",
      "Model with rank: 2\n",
      "Mean validation score: 0.792 (std: 0.004)\n",
      "Parameters: {'solver': 'liblinear', 'penalty': 'l2', 'C': 0.001}\n",
      "\n",
      "Model with rank: 3\n",
      "Mean validation score: 0.770 (std: 0.014)\n",
      "Parameters: {'solver': 'sag', 'penalty': 'none', 'C': 1}\n",
      "\n"
     ]
    }
   ],
   "source": [
    "clf3 = LogisticRegression()\n",
    "\n",
    "\n",
    "param_dist3 = {'penalty': ['l1', 'l2', 'elasticnet', 'none'],\n",
    "               'C': [.001,.01,.1,1],\n",
    "               'solver': ['newton-cg', 'lbfgs', 'liblinear', 'sag', 'saga’']\n",
    "               }\n",
    "\n",
    "# run randomized search\n",
    "n_iter_search = 15\n",
    "random_search3 = RandomizedSearchCV(\n",
    "    clf3, param_distributions=param_dist3, n_iter=n_iter_search\n",
    ")\n",
    "\n",
    "start = time()\n",
    "random_search3.fit(X_train, y_train)\n",
    "print(\n",
    "    \"RandomizedSearchCV took %.2f seconds for %d candidates parameter settings.\"\n",
    "    % ((time() - start), n_iter_search)\n",
    ")\n",
    "report(random_search3.cv_results_)"
   ]
  },
  {
   "cell_type": "code",
   "execution_count": 22,
   "metadata": {
    "colab": {
     "base_uri": "https://localhost:8080/"
    },
    "id": "DUX9JbBCflsG",
    "outputId": "85af4613-d383-440a-9ce2-ea76840c3744"
   },
   "outputs": [
    {
     "name": "stdout",
     "output_type": "stream",
     "text": [
      "GridSearchCV took 20.01 seconds for 80 candidate parameter settings.\n",
      "Model with rank: 1\n",
      "Mean validation score: 0.803 (std: 0.012)\n",
      "Parameters: {'C': 0.01, 'penalty': 'l2', 'solver': 'newton-cg'}\n",
      "\n",
      "Model with rank: 2\n",
      "Mean validation score: 0.802 (std: 0.014)\n",
      "Parameters: {'C': 0.1, 'penalty': 'l1', 'solver': 'liblinear'}\n",
      "\n",
      "Model with rank: 3\n",
      "Mean validation score: 0.801 (std: 0.009)\n",
      "Parameters: {'C': 0.01, 'penalty': 'l2', 'solver': 'liblinear'}\n",
      "\n"
     ]
    }
   ],
   "source": [
    "# use a full grid over all parameters\n",
    "\n",
    "param_grid3 = {'penalty': ['l1', 'l2', 'elasticnet', 'none'],\n",
    "               'C': [.001,.01,.1,1],\n",
    "               'solver': ['newton-cg', 'lbfgs', 'liblinear', 'sag', 'saga’']\n",
    "               }\n",
    "\n",
    "# run grid search\n",
    "grid_search3 = GridSearchCV(clf3, param_grid=param_grid3)\n",
    "start = time()\n",
    "grid_search3.fit(X_train, y_train)\n",
    "\n",
    "print(\n",
    "    \"GridSearchCV took %.2f seconds for %d candidate parameter settings.\"\n",
    "    % (time() - start, len(grid_search3.cv_results_[\"params\"]))\n",
    ")\n",
    "report(grid_search3.cv_results_)"
   ]
  },
  {
   "cell_type": "code",
   "execution_count": 23,
   "metadata": {
    "colab": {
     "base_uri": "https://localhost:8080/"
    },
    "id": "mnLjfUWckuV7",
    "outputId": "e15564c3-0c24-497e-ece9-a4ce06df23af"
   },
   "outputs": [
    {
     "name": "stdout",
     "output_type": "stream",
     "text": [
      "[[1308  141]\n",
      " [ 251  273]]\n",
      "              precision    recall  f1-score   support\n",
      "\n",
      "          No       0.84      0.90      0.87      1449\n",
      "         Yes       0.66      0.52      0.58       524\n",
      "\n",
      "    accuracy                           0.80      1973\n",
      "   macro avg       0.75      0.71      0.73      1973\n",
      "weighted avg       0.79      0.80      0.79      1973\n",
      "\n"
     ]
    }
   ],
   "source": [
    "# modèle 3 _ LOGISTIC REGRESSION Classifier optimized\n",
    "clf3_optimized = LogisticRegression(solver ='liblinear', penalty = 'l2', C = .1)\n",
    "clf3_optimized.fit(X_train, y_train)\n",
    "y_pred3 = clf3_optimized.predict(X_test)\n",
    "#pd.crosstab(y_test, y_pred)\n",
    "b3= confusion_matrix(y_test, y_pred3, labels=None, sample_weight=None, normalize=None)\n",
    "print(b3)\n",
    "c3= classification_report(y_test, y_pred3)\n",
    "print(c3)"
   ]
  },
  {
   "cell_type": "code",
   "execution_count": 24,
   "metadata": {
    "id": "B98bnFPDkmWJ"
   },
   "outputs": [],
   "source": [
    "pickle.dump(clf3_optimized, open('LOGIT_model_2.pkl','wb'))"
   ]
  },
  {
   "cell_type": "code",
   "execution_count": 25,
   "metadata": {
    "colab": {
     "base_uri": "https://localhost:8080/"
    },
    "id": "2uu5ValEhDzV",
    "outputId": "a2c26b98-9f13-4832-fcda-6fa84773a5eb"
   },
   "outputs": [
    {
     "name": "stdout",
     "output_type": "stream",
     "text": [
      "RandomizedSearchCV took 92.29 seconds for 15 candidates parameter settings.\n",
      "Model with rank: 1\n",
      "Mean validation score: 0.801 (std: 0.007)\n",
      "Parameters: {'n_estimators': 50, 'max_depth': 1, 'learning_rate': 1}\n",
      "\n",
      "Model with rank: 2\n",
      "Mean validation score: 0.800 (std: 0.005)\n",
      "Parameters: {'n_estimators': 250, 'max_depth': 1, 'learning_rate': 0.1}\n",
      "\n",
      "Model with rank: 3\n",
      "Mean validation score: 0.791 (std: 0.008)\n",
      "Parameters: {'n_estimators': 50, 'max_depth': 1, 'learning_rate': 0.1}\n",
      "\n"
     ]
    }
   ],
   "source": [
    "clf4 = GradientBoostingClassifier()\n",
    "\n",
    "\n",
    "param_dist4 = {'n_estimators':[5,50,250,500],\n",
    "               'max_depth':[1,3,5,7,9],\n",
    "               'learning_rate':[0.01,0.1,1,10,100]\n",
    "               }\n",
    "\n",
    "# run randomized search\n",
    "n_iter_search = 15\n",
    "random_search4 = RandomizedSearchCV(\n",
    "    clf4, param_distributions=param_dist4, n_iter=n_iter_search\n",
    ")\n",
    "\n",
    "start = time()\n",
    "random_search4.fit(X_train, y_train)\n",
    "print(\n",
    "    \"RandomizedSearchCV took %.2f seconds for %d candidates parameter settings.\"\n",
    "    % ((time() - start), n_iter_search)\n",
    ")\n",
    "report(random_search4.cv_results_)"
   ]
  },
  {
   "cell_type": "code",
   "execution_count": 26,
   "metadata": {
    "colab": {
     "base_uri": "https://localhost:8080/"
    },
    "id": "NXJiR9pzmYNH",
    "outputId": "ffa2be8d-e3f8-475e-e33d-e79c366aa8a1"
   },
   "outputs": [
    {
     "name": "stdout",
     "output_type": "stream",
     "text": [
      "GridSearchCV took 840.38 seconds for 100 candidate parameter settings.\n",
      "Model with rank: 1\n",
      "Mean validation score: 0.801 (std: 0.007)\n",
      "Parameters: {'learning_rate': 1, 'max_depth': 1, 'n_estimators': 50}\n",
      "\n",
      "Model with rank: 2\n",
      "Mean validation score: 0.800 (std: 0.005)\n",
      "Parameters: {'learning_rate': 0.1, 'max_depth': 1, 'n_estimators': 250}\n",
      "\n",
      "Model with rank: 3\n",
      "Mean validation score: 0.800 (std: 0.003)\n",
      "Parameters: {'learning_rate': 0.1, 'max_depth': 1, 'n_estimators': 500}\n",
      "\n"
     ]
    }
   ],
   "source": [
    "# use a full grid over all parameters\n",
    "\n",
    "param_grid4 = {'n_estimators':[5,50,250,500],\n",
    "               'max_depth':[1,3,5,7,9],\n",
    "               'learning_rate':[0.01,0.1,1,10,100]\n",
    "               }\n",
    "\n",
    "\n",
    "# run grid search\n",
    "grid_search4 = GridSearchCV(clf4, param_grid=param_grid4)\n",
    "start = time()\n",
    "grid_search4.fit(X_train, y_train)\n",
    "\n",
    "print(\n",
    "    \"GridSearchCV took %.2f seconds for %d candidate parameter settings.\"\n",
    "    % (time() - start, len(grid_search4.cv_results_[\"params\"]))\n",
    ")\n",
    "report(grid_search4.cv_results_)"
   ]
  },
  {
   "cell_type": "code",
   "execution_count": 27,
   "metadata": {
    "colab": {
     "base_uri": "https://localhost:8080/"
    },
    "id": "XZLFuOpvpsVF",
    "outputId": "b0418c61-4792-4031-ba2d-9d061bccd1a7"
   },
   "outputs": [
    {
     "name": "stdout",
     "output_type": "stream",
     "text": [
      "[[1339  110]\n",
      " [ 287  237]]\n",
      "              precision    recall  f1-score   support\n",
      "\n",
      "          No       0.82      0.92      0.87      1449\n",
      "         Yes       0.68      0.45      0.54       524\n",
      "\n",
      "    accuracy                           0.80      1973\n",
      "   macro avg       0.75      0.69      0.71      1973\n",
      "weighted avg       0.79      0.80      0.78      1973\n",
      "\n"
     ]
    }
   ],
   "source": [
    "# modèle 4 _ GRADIENT BOOSTING Classifier optimized\n",
    "clf4_optimized = GradientBoostingClassifier(learning_rate=.1, max_depth= 3, n_estimators= 50)\n",
    "clf4_optimized.fit(X_train, y_train)\n",
    "y_pred4 = clf4_optimized.predict(X_test)\n",
    "#pd.crosstab(y_test, y_pred)\n",
    "b4= confusion_matrix(y_test, y_pred4, labels=None, sample_weight=None, normalize=None)\n",
    "print(b4)\n",
    "c4= classification_report(y_test, y_pred4)\n",
    "print(c4)"
   ]
  },
  {
   "cell_type": "code",
   "execution_count": 28,
   "metadata": {
    "id": "W5nVQS-RsthP"
   },
   "outputs": [],
   "source": [
    "pickle.dump(clf4_optimized, open('GBOOST_model_2.pkl','wb'))"
   ]
  },
  {
   "cell_type": "code",
   "execution_count": 29,
   "metadata": {
    "colab": {
     "base_uri": "https://localhost:8080/"
    },
    "id": "ZKvwyYCou9DY",
    "outputId": "311e93a9-1f88-4f40-c44a-6bc50216b2d3"
   },
   "outputs": [
    {
     "name": "stdout",
     "output_type": "stream",
     "text": [
      "RandomizedSearchCV took 0.65 seconds for 15 candidates parameter settings.\n",
      "Model with rank: 1\n",
      "Mean validation score: 0.767 (std: 0.004)\n",
      "Parameters: {'var_smoothing': 1.2328467394420658e-05}\n",
      "\n",
      "Model with rank: 2\n",
      "Mean validation score: 0.765 (std: 0.008)\n",
      "Parameters: {'var_smoothing': 1.5199110829529332e-05}\n",
      "\n",
      "Model with rank: 3\n",
      "Mean validation score: 0.764 (std: 0.006)\n",
      "Parameters: {'var_smoothing': 8.111308307896873e-06}\n",
      "\n"
     ]
    }
   ],
   "source": [
    "clf5 =  GaussianNB()\n",
    "\n",
    "#https://medium.com/analytics-vidhya/how-to-improve-naive-bayes-9fa698e14cba\n",
    "param_dist5 = {\n",
    "    'var_smoothing': np.logspace(0,-9, num=100)\n",
    "}           \n",
    "\n",
    "# run randomized search\n",
    "n_iter_search = 15\n",
    "random_search5 = RandomizedSearchCV(\n",
    "    clf5, param_distributions=param_dist5, n_iter=n_iter_search\n",
    ")\n",
    "\n",
    "start = time()\n",
    "random_search5.fit(X_train, y_train)\n",
    "print(\n",
    "    \"RandomizedSearchCV took %.2f seconds for %d candidates parameter settings.\"\n",
    "    % ((time() - start), n_iter_search)\n",
    ")\n",
    "report(random_search5.cv_results_)"
   ]
  },
  {
   "cell_type": "code",
   "execution_count": 30,
   "metadata": {
    "colab": {
     "base_uri": "https://localhost:8080/"
    },
    "id": "fkdRDvjnv9LO",
    "outputId": "075d5717-2594-45f5-e6d6-d07df2efac70"
   },
   "outputs": [
    {
     "name": "stdout",
     "output_type": "stream",
     "text": [
      "GridSearchCV took 5.65 seconds for 100 candidate parameter settings.\n",
      "Model with rank: 1\n",
      "Mean validation score: 0.790 (std: 0.008)\n",
      "Parameters: {'var_smoothing': 0.0001}\n",
      "\n",
      "Model with rank: 2\n",
      "Mean validation score: 0.787 (std: 0.006)\n",
      "Parameters: {'var_smoothing': 8.111308307896872e-05}\n",
      "\n",
      "Model with rank: 3\n",
      "Mean validation score: 0.786 (std: 0.009)\n",
      "Parameters: {'var_smoothing': 0.0001232846739442066}\n",
      "\n"
     ]
    }
   ],
   "source": [
    "# use a full grid over all parameters\n",
    "\n",
    "param_grid5 = {'var_smoothing': np.logspace(0,-9, num=100)\n",
    "               }\n",
    "\n",
    "# run grid search\n",
    "grid_search5 = GridSearchCV(clf5, param_grid=param_grid5)\n",
    "start = time()\n",
    "grid_search5.fit(X_train, y_train)\n",
    "\n",
    "print(\n",
    "    \"GridSearchCV took %.2f seconds for %d candidate parameter settings.\"\n",
    "    % (time() - start, len(grid_search5.cv_results_[\"params\"]))\n",
    ")\n",
    "report(grid_search5.cv_results_)"
   ]
  },
  {
   "cell_type": "code",
   "execution_count": 31,
   "metadata": {
    "colab": {
     "base_uri": "https://localhost:8080/"
    },
    "id": "TiGYF-7gwaOT",
    "outputId": "243ff096-d5b8-423d-e13f-cc3eed18b132"
   },
   "outputs": [
    {
     "name": "stdout",
     "output_type": "stream",
     "text": [
      "[[1367   82]\n",
      " [ 355  169]]\n",
      "              precision    recall  f1-score   support\n",
      "\n",
      "          No       0.79      0.94      0.86      1449\n",
      "         Yes       0.67      0.32      0.44       524\n",
      "\n",
      "    accuracy                           0.78      1973\n",
      "   macro avg       0.73      0.63      0.65      1973\n",
      "weighted avg       0.76      0.78      0.75      1973\n",
      "\n"
     ]
    }
   ],
   "source": [
    "# modèle 5 _ NAIVE BAYE Classifier optimized\n",
    "clf5_optimized = GaussianNB(var_smoothing= .0001)\n",
    "clf5_optimized.fit(X_train, y_train)\n",
    "y_pred5 = clf5_optimized.predict(X_test)\n",
    "#pd.crosstab(y_test, y_pred)\n",
    "b5= confusion_matrix(y_test, y_pred5, labels=None, sample_weight=None, normalize=None)\n",
    "print(b5)\n",
    "c5= classification_report(y_test, y_pred5)\n",
    "print(c5)"
   ]
  },
  {
   "cell_type": "code",
   "execution_count": 32,
   "metadata": {
    "id": "oYzSHLnHxOz8"
   },
   "outputs": [],
   "source": [
    "pickle.dump(clf5_optimized, open('GAUSSIANNB_model_2.pkl','wb'))"
   ]
  }
 ],
 "metadata": {
  "colab": {
   "collapsed_sections": [],
   "name": "CHURN_PROJECTS_STUDY.ipynb",
   "provenance": []
  },
  "kernelspec": {
   "display_name": "Python 3 (ipykernel)",
   "language": "python",
   "name": "python3"
  },
  "language_info": {
   "codemirror_mode": {
    "name": "ipython",
    "version": 3
   },
   "file_extension": ".py",
   "mimetype": "text/x-python",
   "name": "python",
   "nbconvert_exporter": "python",
   "pygments_lexer": "ipython3",
   "version": "3.8.11"
  }
 },
 "nbformat": 4,
 "nbformat_minor": 1
}
